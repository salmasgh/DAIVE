{
 "cells": [
  {
   "cell_type": "code",
   "execution_count": 1,
   "metadata": {},
   "outputs": [
    {
     "ename": "",
     "evalue": "",
     "output_type": "error",
     "traceback": [
      "\u001b[1;31mRunning cells with '.venv (Python 3.12.7)' requires the ipykernel package.\n",
      "\u001b[1;31mRun the following command to install 'ipykernel' into the Python environment. \n",
      "\u001b[1;31mCommand: 'c:/Users/21654/Downloads/HomeC.csv/.venv/Scripts/python.exe -m pip install ipykernel -U --force-reinstall'"
     ]
    }
   ],
   "source": [
    "import pandas as pd\n",
    "import numpy as np\n",
    "from tensorflow import keras\n",
    "import matplotlib.pyplot as plt"
   ]
  },
  {
   "cell_type": "code",
   "execution_count": 2,
   "metadata": {},
   "outputs": [],
   "source": [
    "features_per_device = [\"Available_energy\", \"Device_category\", \"Time_of_use\", \"User_set_prio\", \"Power_consumption\", \"Duration_of_use\", \"Device_priority\"]\n",
    "devices = [\"device_A\", \"device_B\", \"device_C\"]\n",
    "features = [feature_per_device + \"_\" + device for feature_per_device in features_per_device for device in devices]\n",
    "data = pd.DataFrame(columns=features)"
   ]
  },
  {
   "cell_type": "code",
   "execution_count": 3,
   "metadata": {},
   "outputs": [],
   "source": [
    "#dynamic means number of inputs is not fixed\n",
    "def dynamic_model(n_inputs, n_outputs):\n",
    "    model = keras.models.Sequential()\n",
    "    model.add(keras.layers.InputLayer(input_shape=[n_inputs]))\n",
    "    model.add(keras.layers.Dense(300, activation=\"selu\", kernel_initializer=\"lecun_normal\"))\n",
    "    model.add(keras.layers.Dense(200, activation=\"selu\", kernel_initializer=\"lecun_normal\"))\n",
    "    model.add(keras.layers.Dense(100, activation=\"selu\", kernel_initializer=\"lecun_normal\"))\n",
    "    model.add(keras.layers.Dense(n_outputs))\n",
    "    return model"
   ]
  },
  {
   "cell_type": "code",
   "execution_count": 4,
   "metadata": {},
   "outputs": [],
   "source": [
    "model = dynamic_model(len(features) - len(devices), len(devices))"
   ]
  },
  {
   "cell_type": "code",
   "execution_count": 5,
   "metadata": {},
   "outputs": [],
   "source": [
    "model.compile(loss=\"mse\", optimizer=\"sgd\")"
   ]
  },
  {
   "cell_type": "code",
   "execution_count": 6,
   "metadata": {},
   "outputs": [],
   "source": [
    "#generating data\n",
    "\n",
    "num_samples = 5000\n",
    "\n",
    "data[\"Available_energy_device_A\"] = np.random.uniform(0, 15, num_samples)\n",
    "data[\"Available_energy_device_B\"] = np.random.uniform(0, 15, num_samples)\n",
    "data[\"Available_energy_device_C\"] = np.random.uniform(0, 15, num_samples)\n",
    "data[\"User_set_prio_device_A\"] = np.random.choice([0, 1], num_samples)\n",
    "data[\"User_set_prio_device_B\"] = np.random.choice([0, 1], num_samples)\n",
    "data[\"User_set_prio_device_C\"] = np.random.choice([0, 1], num_samples)\n",
    "data[\"Power_consumption_device_A\"] = np.random.uniform(1, 5, num_samples)\n",
    "data[\"Power_consumption_device_B\"] = np.random.uniform(0.1, 0.5, num_samples)\n",
    "data[\"Power_consumption_device_C\"] = np.random.uniform(0.5, 2, num_samples)\n",
    "data[\"Duration_of_use_device_A\"] = np.random.uniform(0, 24, num_samples)\n",
    "data[\"Duration_of_use_device_B\"] = np.random.uniform(0, 24, num_samples)\n",
    "data[\"Duration_of_use_device_C\"] = np.random.uniform(0, 24, num_samples)\n",
    "data[\"Time_of_use_device_A\"] = np.random.choice([0, 1, 2], num_samples)\n",
    "data[\"Time_of_use_device_B\"] = np.random.choice([0, 1, 2], num_samples)\n",
    "data[\"Time_of_use_device_C\"] = np.random.choice([0, 1, 2], num_samples)\n",
    "data[\"Device_category_device_A\"] = np.random.choice([0, 1, 2], num_samples)\n",
    "data[\"Device_category_device_B\"] = np.random.choice([0, 1, 2], num_samples)\n",
    "data[\"Device_category_device_C\"] = np.random.choice([0, 1, 2], num_samples)\n",
    "data[\"Device_priority_device_A\"] = np.random.uniform(0, 1, num_samples)\n",
    "data[\"Device_priority_device_B\"] = np.random.uniform(0, 1, num_samples)\n",
    "data[\"Device_priority_device_C\"] = np.random.uniform(0, 1, num_samples)\n"
   ]
  },
  {
   "cell_type": "code",
   "execution_count": 7,
   "metadata": {},
   "outputs": [],
   "source": [
    "X = data.drop(columns=[col for col in data.columns if \"Device_priority\" in col])\n",
    "Y = data.loc[:, data.columns.str.contains('Device_priority')]"
   ]
  },
  {
   "cell_type": "code",
   "execution_count": 8,
   "metadata": {},
   "outputs": [],
   "source": [
    "from sklearn.preprocessing import StandardScaler\n",
    "scaler = StandardScaler()\n",
    "X = scaler.fit_transform(X)"
   ]
  },
  {
   "cell_type": "code",
   "execution_count": 9,
   "metadata": {},
   "outputs": [],
   "source": [
    "X_train, y_train = X[:4000], Y[:4000]\n",
    "X_valid, y_valid = X[1000:], Y[1000:]"
   ]
  },
  {
   "cell_type": "code",
   "execution_count": 10,
   "metadata": {},
   "outputs": [
    {
     "name": "stdout",
     "output_type": "stream",
     "text": [
      "Epoch 1/50\n",
      "125/125 [==============================] - 2s 9ms/step - loss: 0.2583 - val_loss: 0.1654\n",
      "Epoch 2/50\n",
      "125/125 [==============================] - 1s 5ms/step - loss: 0.1516 - val_loss: 0.1364\n",
      "Epoch 3/50\n",
      "125/125 [==============================] - 1s 5ms/step - loss: 0.1292 - val_loss: 0.1232\n",
      "Epoch 4/50\n",
      "125/125 [==============================] - 1s 5ms/step - loss: 0.1156 - val_loss: 0.1131\n",
      "Epoch 5/50\n",
      "125/125 [==============================] - 1s 5ms/step - loss: 0.1072 - val_loss: 0.1072\n",
      "Epoch 6/50\n",
      "125/125 [==============================] - 1s 5ms/step - loss: 0.1012 - val_loss: 0.1015\n",
      "Epoch 7/50\n",
      "125/125 [==============================] - 1s 5ms/step - loss: 0.0966 - val_loss: 0.0975\n",
      "Epoch 8/50\n",
      "125/125 [==============================] - 1s 5ms/step - loss: 0.0931 - val_loss: 0.0971\n",
      "Epoch 9/50\n",
      "125/125 [==============================] - 1s 5ms/step - loss: 0.0912 - val_loss: 0.0935\n",
      "Epoch 10/50\n",
      "125/125 [==============================] - 1s 5ms/step - loss: 0.0885 - val_loss: 0.0933\n",
      "Epoch 11/50\n",
      "125/125 [==============================] - 1s 5ms/step - loss: 0.0866 - val_loss: 0.0889\n",
      "Epoch 12/50\n",
      "125/125 [==============================] - 1s 6ms/step - loss: 0.0852 - val_loss: 0.0871\n",
      "Epoch 13/50\n",
      "125/125 [==============================] - 1s 7ms/step - loss: 0.0833 - val_loss: 0.0866\n",
      "Epoch 14/50\n",
      "125/125 [==============================] - 1s 6ms/step - loss: 0.0823 - val_loss: 0.0875\n",
      "Epoch 15/50\n",
      "125/125 [==============================] - 1s 5ms/step - loss: 0.0811 - val_loss: 0.0852\n",
      "Epoch 16/50\n",
      "125/125 [==============================] - 1s 5ms/step - loss: 0.0802 - val_loss: 0.0844\n",
      "Epoch 17/50\n",
      "125/125 [==============================] - 1s 5ms/step - loss: 0.0787 - val_loss: 0.0839\n",
      "Epoch 18/50\n",
      "125/125 [==============================] - 1s 6ms/step - loss: 0.0778 - val_loss: 0.0825\n",
      "Epoch 19/50\n",
      "125/125 [==============================] - 1s 6ms/step - loss: 0.0774 - val_loss: 0.0838\n",
      "Epoch 20/50\n",
      "125/125 [==============================] - 1s 5ms/step - loss: 0.0765 - val_loss: 0.0828\n",
      "Epoch 21/50\n",
      "125/125 [==============================] - 1s 5ms/step - loss: 0.0762 - val_loss: 0.0816\n",
      "Epoch 22/50\n",
      "125/125 [==============================] - 1s 5ms/step - loss: 0.0753 - val_loss: 0.0811\n",
      "Epoch 23/50\n",
      "125/125 [==============================] - 1s 5ms/step - loss: 0.0746 - val_loss: 0.0805\n",
      "Epoch 24/50\n",
      "125/125 [==============================] - 1s 5ms/step - loss: 0.0739 - val_loss: 0.0792\n",
      "Epoch 25/50\n",
      "125/125 [==============================] - 1s 6ms/step - loss: 0.0735 - val_loss: 0.0790\n",
      "Epoch 26/50\n",
      "125/125 [==============================] - 1s 5ms/step - loss: 0.0729 - val_loss: 0.0789\n",
      "Epoch 27/50\n",
      "125/125 [==============================] - 1s 5ms/step - loss: 0.0726 - val_loss: 0.0781\n",
      "Epoch 28/50\n",
      "125/125 [==============================] - 1s 5ms/step - loss: 0.0720 - val_loss: 0.0779\n",
      "Epoch 29/50\n",
      "125/125 [==============================] - 1s 5ms/step - loss: 0.0719 - val_loss: 0.0775\n",
      "Epoch 30/50\n",
      "125/125 [==============================] - 1s 5ms/step - loss: 0.0713 - val_loss: 0.0777\n",
      "Epoch 31/50\n",
      "125/125 [==============================] - 1s 5ms/step - loss: 0.0708 - val_loss: 0.0766\n",
      "Epoch 32/50\n",
      "125/125 [==============================] - 1s 6ms/step - loss: 0.0701 - val_loss: 0.0788\n",
      "Epoch 33/50\n",
      "125/125 [==============================] - 1s 5ms/step - loss: 0.0698 - val_loss: 0.0776\n",
      "Epoch 34/50\n",
      "125/125 [==============================] - 1s 5ms/step - loss: 0.0696 - val_loss: 0.0767\n",
      "Epoch 35/50\n",
      "125/125 [==============================] - 1s 6ms/step - loss: 0.0693 - val_loss: 0.0757\n",
      "Epoch 36/50\n",
      "125/125 [==============================] - 1s 7ms/step - loss: 0.0690 - val_loss: 0.0761\n",
      "Epoch 37/50\n",
      "125/125 [==============================] - 1s 6ms/step - loss: 0.0686 - val_loss: 0.0767\n",
      "Epoch 38/50\n",
      "125/125 [==============================] - 1s 6ms/step - loss: 0.0684 - val_loss: 0.0762\n",
      "Epoch 39/50\n",
      "125/125 [==============================] - 1s 6ms/step - loss: 0.0681 - val_loss: 0.0757\n",
      "Epoch 40/50\n",
      "125/125 [==============================] - 1s 6ms/step - loss: 0.0678 - val_loss: 0.0750\n",
      "Epoch 41/50\n",
      "125/125 [==============================] - 1s 6ms/step - loss: 0.0674 - val_loss: 0.0755\n",
      "Epoch 42/50\n",
      "125/125 [==============================] - 1s 6ms/step - loss: 0.0671 - val_loss: 0.0753\n",
      "Epoch 43/50\n",
      "125/125 [==============================] - 1s 7ms/step - loss: 0.0669 - val_loss: 0.0755\n",
      "Epoch 44/50\n",
      "125/125 [==============================] - 1s 7ms/step - loss: 0.0667 - val_loss: 0.0753\n",
      "Epoch 45/50\n",
      "125/125 [==============================] - 1s 6ms/step - loss: 0.0662 - val_loss: 0.0743\n",
      "Epoch 46/50\n",
      "125/125 [==============================] - 1s 6ms/step - loss: 0.0660 - val_loss: 0.0747\n",
      "Epoch 47/50\n",
      "125/125 [==============================] - 1s 5ms/step - loss: 0.0659 - val_loss: 0.0732\n",
      "Epoch 48/50\n",
      "125/125 [==============================] - 1s 5ms/step - loss: 0.0654 - val_loss: 0.0737\n",
      "Epoch 49/50\n",
      "125/125 [==============================] - 1s 5ms/step - loss: 0.0653 - val_loss: 0.0728\n",
      "Epoch 50/50\n",
      "125/125 [==============================] - 1s 5ms/step - loss: 0.0648 - val_loss: 0.0741\n"
     ]
    }
   ],
   "source": [
    "early_stopping = keras.callbacks.EarlyStopping(monitor='val_loss', patience=5, restore_best_weights=True)\n",
    "\n",
    "history = model.fit(X_train, y_train, epochs = 50, validation_data = (X_valid, y_valid), callbacks=[early_stopping])"
   ]
  },
  {
   "cell_type": "code",
   "execution_count": 11,
   "metadata": {},
   "outputs": [
    {
     "name": "stdout",
     "output_type": "stream",
     "text": [
      "Epoch 1/50\n",
      "125/125 [==============================] - 1s 6ms/step - loss: 0.0647 - val_loss: 0.0726\n",
      "Epoch 2/50\n",
      "125/125 [==============================] - 1s 6ms/step - loss: 0.0646 - val_loss: 0.0738\n",
      "Epoch 3/50\n",
      "125/125 [==============================] - 1s 5ms/step - loss: 0.0647 - val_loss: 0.0726\n",
      "Epoch 4/50\n",
      "125/125 [==============================] - 1s 5ms/step - loss: 0.0641 - val_loss: 0.0726\n",
      "Epoch 5/50\n",
      "125/125 [==============================] - 1s 5ms/step - loss: 0.0637 - val_loss: 0.0735\n",
      "Epoch 6/50\n",
      "125/125 [==============================] - 1s 6ms/step - loss: 0.0639 - val_loss: 0.0737\n"
     ]
    }
   ],
   "source": [
    "history = model.fit(X_train, y_train, epochs = 50, validation_data = (X_valid, y_valid), callbacks=[early_stopping])"
   ]
  },
  {
   "cell_type": "code",
   "execution_count": 12,
   "metadata": {},
   "outputs": [],
   "source": [
    "test = pd.DataFrame(columns=[col for col in data.columns if \"Device_priority\" not in col])\n",
    "test[\"Available_energy_device_A\"] = np.random.uniform(0, 15, 1)\n",
    "test[\"Available_energy_device_B\"] = np.random.uniform(0, 15, 1)\n",
    "test[\"Available_energy_device_C\"] = np.random.uniform(0, 15, 1)\n",
    "test[\"User_set_prio_device_A\"] = np.random.choice([0, 1], 1)\n",
    "test[\"User_set_prio_device_B\"] = np.random.choice([0, 1], 1)\n",
    "test[\"User_set_prio_device_C\"] = np.random.choice([0, 1], 1)\n",
    "test[\"Power_consumption_device_A\"] = np.random.uniform(1, 5, 1)\n",
    "test[\"Power_consumption_device_B\"] = np.random.uniform(0.1, 0.5, 1)\n",
    "test[\"Power_consumption_device_C\"] = np.random.uniform(0.5, 2, 1)\n",
    "test[\"Duration_of_use_device_A\"] = np.random.uniform(0, 24, 1)\n",
    "test[\"Duration_of_use_device_B\"] = np.random.uniform(0, 24, 1)\n",
    "test[\"Duration_of_use_device_C\"] = np.random.uniform(0, 24, 1)\n",
    "test[\"Time_of_use_device_A\"] = np.random.choice([0, 1, 2], 1)\n",
    "test[\"Time_of_use_device_B\"] = np.random.choice([0, 1, 2], 1)\n",
    "test[\"Time_of_use_device_C\"] = np.random.choice([0, 1, 2], 1)\n",
    "test[\"Device_category_device_A\"] = np.random.choice([0, 1, 2], 1)\n",
    "test[\"Device_category_device_B\"] = np.random.choice([0, 1, 2], 1)\n",
    "test[\"Device_category_device_C\"] = np.random.choice([0, 1, 2], 1)\n",
    "test_output = {}\n",
    "test_output[\"Device_priority_device_A\"] = np.random.uniform(0, 1, 1)\n",
    "test_output[\"Device_priority_device_B\"] = np.random.uniform(0, 1, 1)\n",
    "test_output[\"Device_priority_device_C\"] = np.random.uniform(0, 1, 1)\n",
    "test = pd.DataFrame(scaler.transform(test), columns=test.columns)\n"
   ]
  },
  {
   "cell_type": "code",
   "execution_count": 14,
   "metadata": {},
   "outputs": [
    {
     "name": "stdout",
     "output_type": "stream",
     "text": [
      "1/1 [==============================] - 0s 49ms/step\n",
      "Prediction : [[0.57487345 0.44114074 0.6676726 ]], actual values : dict_values([array([0.54766945]), array([0.75879809]), array([0.95004658])])\n"
     ]
    }
   ],
   "source": [
    "print(f\"Prediction : {model.predict(test)}, actual values : {test_output.values()}\")"
   ]
  },
  {
   "cell_type": "code",
   "execution_count": null,
   "metadata": {},
   "outputs": [],
   "source": []
  }
 ],
 "metadata": {
  "kernelspec": {
   "display_name": ".venv",
   "language": "python",
   "name": "python3"
  },
  "language_info": {
   "codemirror_mode": {
    "name": "ipython",
    "version": 3
   },
   "file_extension": ".py",
   "mimetype": "text/x-python",
   "name": "python",
   "nbconvert_exporter": "python",
   "pygments_lexer": "ipython3",
   "version": "3.12.7"
  }
 },
 "nbformat": 4,
 "nbformat_minor": 2
}
